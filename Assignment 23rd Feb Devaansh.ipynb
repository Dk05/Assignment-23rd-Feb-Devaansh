{
 "cells": [
  {
   "cell_type": "code",
   "execution_count": 6,
   "id": "35de618d",
   "metadata": {},
   "outputs": [
    {
     "data": {
      "text/plain": [
       "0     4\n",
       "1     8\n",
       "2    15\n",
       "3    16\n",
       "4    23\n",
       "5    42\n",
       "dtype: int64"
      ]
     },
     "execution_count": 6,
     "metadata": {},
     "output_type": "execute_result"
    }
   ],
   "source": [
    "# ANS 1 :\n",
    "import pandas as pd\n",
    "list1 = [4,8,15,16,23,42]\n",
    "df = pd.Series(list1)\n",
    "(df)"
   ]
  },
  {
   "cell_type": "code",
   "execution_count": 5,
   "id": "89b79c8c",
   "metadata": {},
   "outputs": [
    {
     "data": {
      "text/plain": [
       "0     10\n",
       "1     20\n",
       "2     30\n",
       "3     40\n",
       "4     50\n",
       "5     60\n",
       "6     70\n",
       "7     80\n",
       "8     90\n",
       "9    100\n",
       "dtype: int64"
      ]
     },
     "execution_count": 5,
     "metadata": {},
     "output_type": "execute_result"
    }
   ],
   "source": [
    "# ANS 2 :\n",
    "list2 = pd.Series([10,20,30,40,50,60,70,80,90,100])\n",
    "list2"
   ]
  },
  {
   "cell_type": "code",
   "execution_count": 7,
   "id": "ca6168c6",
   "metadata": {},
   "outputs": [
    {
     "data": {
      "text/html": [
       "<div>\n",
       "<style scoped>\n",
       "    .dataframe tbody tr th:only-of-type {\n",
       "        vertical-align: middle;\n",
       "    }\n",
       "\n",
       "    .dataframe tbody tr th {\n",
       "        vertical-align: top;\n",
       "    }\n",
       "\n",
       "    .dataframe thead th {\n",
       "        text-align: right;\n",
       "    }\n",
       "</style>\n",
       "<table border=\"1\" class=\"dataframe\">\n",
       "  <thead>\n",
       "    <tr style=\"text-align: right;\">\n",
       "      <th></th>\n",
       "      <th>NAME</th>\n",
       "      <th>AGE</th>\n",
       "      <th>GENDER</th>\n",
       "    </tr>\n",
       "  </thead>\n",
       "  <tbody>\n",
       "    <tr>\n",
       "      <th>0</th>\n",
       "      <td>ALICE</td>\n",
       "      <td>25</td>\n",
       "      <td>FEMALE</td>\n",
       "    </tr>\n",
       "    <tr>\n",
       "      <th>1</th>\n",
       "      <td>BOB</td>\n",
       "      <td>30</td>\n",
       "      <td>MALE</td>\n",
       "    </tr>\n",
       "    <tr>\n",
       "      <th>2</th>\n",
       "      <td>CLAIRE</td>\n",
       "      <td>27</td>\n",
       "      <td>FEMALE</td>\n",
       "    </tr>\n",
       "  </tbody>\n",
       "</table>\n",
       "</div>"
      ],
      "text/plain": [
       "     NAME  AGE  GENDER\n",
       "0   ALICE   25  FEMALE\n",
       "1     BOB   30    MALE\n",
       "2  CLAIRE   27  FEMALE"
      ]
     },
     "execution_count": 7,
     "metadata": {},
     "output_type": "execute_result"
    }
   ],
   "source": [
    "# ANS 3 :\n",
    "data = {\"NAME\":['ALICE','BOB','CLAIRE'], \"AGE\":[25,30,27], \"GENDER\":['FEMALE','MALE','FEMALE']}\n",
    "df2 = pd.DataFrame(data)\n",
    "df2"
   ]
  },
  {
   "cell_type": "code",
   "execution_count": 15,
   "id": "e9dbf806",
   "metadata": {},
   "outputs": [
    {
     "name": "stdout",
     "output_type": "stream",
     "text": [
      "\n",
      "\n",
      "\n"
     ]
    },
    {
     "data": {
      "text/html": [
       "<div>\n",
       "<style scoped>\n",
       "    .dataframe tbody tr th:only-of-type {\n",
       "        vertical-align: middle;\n",
       "    }\n",
       "\n",
       "    .dataframe tbody tr th {\n",
       "        vertical-align: top;\n",
       "    }\n",
       "\n",
       "    .dataframe thead th {\n",
       "        text-align: right;\n",
       "    }\n",
       "</style>\n",
       "<table border=\"1\" class=\"dataframe\">\n",
       "  <thead>\n",
       "    <tr style=\"text-align: right;\">\n",
       "      <th></th>\n",
       "      <th>NAME</th>\n",
       "      <th>AGE</th>\n",
       "      <th>GENDER</th>\n",
       "    </tr>\n",
       "  </thead>\n",
       "  <tbody>\n",
       "    <tr>\n",
       "      <th>0</th>\n",
       "      <td>ALICE</td>\n",
       "      <td>25</td>\n",
       "      <td>FEMALE</td>\n",
       "    </tr>\n",
       "    <tr>\n",
       "      <th>1</th>\n",
       "      <td>BOB</td>\n",
       "      <td>30</td>\n",
       "      <td>MALE</td>\n",
       "    </tr>\n",
       "    <tr>\n",
       "      <th>2</th>\n",
       "      <td>CLAIRE</td>\n",
       "      <td>27</td>\n",
       "      <td>FEMALE</td>\n",
       "    </tr>\n",
       "  </tbody>\n",
       "</table>\n",
       "</div>"
      ],
      "text/plain": [
       "     NAME  AGE  GENDER\n",
       "0   ALICE   25  FEMALE\n",
       "1     BOB   30    MALE\n",
       "2  CLAIRE   27  FEMALE"
      ]
     },
     "execution_count": 15,
     "metadata": {},
     "output_type": "execute_result"
    }
   ],
   "source": [
    "# ANS 4 :\n",
    "\n",
    "''' \n",
    "    DATAFRAME IS A 2-DIMENTIONAL DATA STRUCTURE REPRESENTED IN TABULAR FORM LIKE RELATIONAL DATABASE \n",
    "    TABLES, 2 ATTRIBUTES ROWS AND COLUMNS.\n",
    "    \n",
    "    SERIES IS A 1-DIMENTIONAL DATA STRUCTURE REPRESENTED IN THE FORM OF A LIST BUT THE ONLY DIFFERENCE\n",
    "    IS THAT A SERIES HAS INDEX BY DEFAULT FROM 0.\n",
    "    \n",
    "'''\n",
    "\n",
    "#SERIES\n",
    "import pandas as pd\n",
    "list1 = [40,80,150,160,230,420]\n",
    "DF = pd.Series(list1)\n",
    "(DF)\n",
    "\n",
    "print(\"\\n\\n\")\n",
    "\n",
    "#DATAFRAME\n",
    "data = {\"NAME\":['ALICE','BOB','CLAIRE'], \"AGE\":[25,30,27], \"GENDER\":['FEMALE','MALE','FEMALE']}\n",
    "df2 = pd.DataFrame(data)\n",
    "df2"
   ]
  },
  {
   "cell_type": "code",
   "execution_count": 18,
   "id": "9c156ea0",
   "metadata": {},
   "outputs": [
    {
     "name": "stdout",
     "output_type": "stream",
     "text": [
      "\n",
      "\n",
      "\n",
      "\n",
      "\n",
      "\n"
     ]
    },
    {
     "data": {
      "text/html": [
       "<div>\n",
       "<style scoped>\n",
       "    .dataframe tbody tr th:only-of-type {\n",
       "        vertical-align: middle;\n",
       "    }\n",
       "\n",
       "    .dataframe tbody tr th {\n",
       "        vertical-align: top;\n",
       "    }\n",
       "\n",
       "    .dataframe thead th {\n",
       "        text-align: right;\n",
       "    }\n",
       "</style>\n",
       "<table border=\"1\" class=\"dataframe\">\n",
       "  <thead>\n",
       "    <tr style=\"text-align: right;\">\n",
       "      <th></th>\n",
       "      <th>NAME</th>\n",
       "      <th>GENDER</th>\n",
       "    </tr>\n",
       "  </thead>\n",
       "  <tbody>\n",
       "    <tr>\n",
       "      <th>0</th>\n",
       "      <td>ALICE</td>\n",
       "      <td>FEMALE</td>\n",
       "    </tr>\n",
       "    <tr>\n",
       "      <th>1</th>\n",
       "      <td>BOB</td>\n",
       "      <td>MALE</td>\n",
       "    </tr>\n",
       "    <tr>\n",
       "      <th>2</th>\n",
       "      <td>CLAIRE</td>\n",
       "      <td>FEMALE</td>\n",
       "    </tr>\n",
       "  </tbody>\n",
       "</table>\n",
       "</div>"
      ],
      "text/plain": [
       "     NAME  GENDER\n",
       "0   ALICE  FEMALE\n",
       "1     BOB    MALE\n",
       "2  CLAIRE  FEMALE"
      ]
     },
     "execution_count": 18,
     "metadata": {},
     "output_type": "execute_result"
    }
   ],
   "source": [
    "# ANS 5 :\n",
    "\n",
    "#DATAFRAME\n",
    "data = {\"NAME\":['ALICE','BOB','CLAIRE'], \"AGE\":[25,30,27], \"GENDER\":['FEMALE','MALE','FEMALE']}\n",
    "df2 = pd.DataFrame(data)\n",
    "df2\n",
    "print(\"\\n\")\n",
    "\n",
    "df2.head(2)\n",
    "print(\"\\n\")\n",
    "df2.tail(2)\n",
    "print(\"\\n\")\n",
    "df2[['NAME','GENDER']]"
   ]
  },
  {
   "cell_type": "code",
   "execution_count": null,
   "id": "9ba264b6",
   "metadata": {},
   "outputs": [],
   "source": [
    "# ANS 6 : \n",
    "\n",
    "'''  \n",
    "     SERIES IS THE ONLY DATA STRCUTURE IN PANDAS WHICH IS IMMUTABLE.\n",
    "     DATAFRAME AND DATA STRCUTURES LIKE DATAFRAME ARE MUTABLE.\n",
    "'''"
   ]
  },
  {
   "cell_type": "code",
   "execution_count": 30,
   "id": "fe6e9f5b",
   "metadata": {},
   "outputs": [
    {
     "data": {
      "text/html": [
       "<div>\n",
       "<style scoped>\n",
       "    .dataframe tbody tr th:only-of-type {\n",
       "        vertical-align: middle;\n",
       "    }\n",
       "\n",
       "    .dataframe tbody tr th {\n",
       "        vertical-align: top;\n",
       "    }\n",
       "\n",
       "    .dataframe thead th {\n",
       "        text-align: right;\n",
       "    }\n",
       "</style>\n",
       "<table border=\"1\" class=\"dataframe\">\n",
       "  <thead>\n",
       "    <tr style=\"text-align: right;\">\n",
       "      <th></th>\n",
       "      <th>0</th>\n",
       "    </tr>\n",
       "  </thead>\n",
       "  <tbody>\n",
       "    <tr>\n",
       "      <th>0</th>\n",
       "      <td>[1, 2, 3, 5, 4, 5, 3, 5, 3, 5]</td>\n",
       "    </tr>\n",
       "    <tr>\n",
       "      <th>1</th>\n",
       "      <td>[5, 5, 3, 5, 4, 5, 6, 3, 3, 5]</td>\n",
       "    </tr>\n",
       "    <tr>\n",
       "      <th>2</th>\n",
       "      <td>[5, 3, 5, 5, 5, 5, 7, 8, 5, 3]</td>\n",
       "    </tr>\n",
       "  </tbody>\n",
       "</table>\n",
       "</div>"
      ],
      "text/plain": [
       "                                0\n",
       "0  [1, 2, 3, 5, 4, 5, 3, 5, 3, 5]\n",
       "1  [5, 5, 3, 5, 4, 5, 6, 3, 3, 5]\n",
       "2  [5, 3, 5, 5, 5, 5, 7, 8, 5, 3]"
      ]
     },
     "execution_count": 30,
     "metadata": {},
     "output_type": "execute_result"
    }
   ],
   "source": [
    "# ANS 7 :\n",
    "\n",
    "a = pd.Series([[1,2,3,5,4,5,3,5,3,5], [5,5,3,5,4,5,6,3,3,5], [5,3,5,5,5,5,7,8,5,3]])\n",
    "b = pd.DataFrame(a)\n",
    "b"
   ]
  }
 ],
 "metadata": {
  "kernelspec": {
   "display_name": "Python 3 (ipykernel)",
   "language": "python",
   "name": "python3"
  },
  "language_info": {
   "codemirror_mode": {
    "name": "ipython",
    "version": 3
   },
   "file_extension": ".py",
   "mimetype": "text/x-python",
   "name": "python",
   "nbconvert_exporter": "python",
   "pygments_lexer": "ipython3",
   "version": "3.11.3"
  }
 },
 "nbformat": 4,
 "nbformat_minor": 5
}
